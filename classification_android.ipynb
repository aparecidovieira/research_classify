{
 "cells": [
  {
   "cell_type": "code",
   "execution_count": 62,
   "metadata": {
    "collapsed": true
   },
   "outputs": [],
   "source": [
    "import tensorflow as tf\n",
    "import numpy as np\n",
    "import pandas as pd\n",
    "import time\n",
    "import datetime\n",
    "import matplotlib.pyplot as plt\n",
    "from sklearn.metrics import roc_auc_score\n",
    "import warnings\n",
    "%matplotlib inline"
   ]
  },
  {
   "cell_type": "code",
   "execution_count": 63,
   "metadata": {},
   "outputs": [
    {
     "name": "stdout",
     "output_type": "stream",
     "text": [
      "Default GPU /gpu:0\n"
     ]
    }
   ],
   "source": [
    "if tf.test.gpu_device_name():\n",
    "    print('Default GPU {}'.format(tf.test.gpu_device_name()))\n",
    "else:    \n",
    "    print('NO GPU DETECTED')\n",
    "    "
   ]
  },
  {
   "cell_type": "code",
   "execution_count": null,
   "metadata": {
    "collapsed": true
   },
   "outputs": [],
   "source": []
  },
  {
   "cell_type": "code",
   "execution_count": null,
   "metadata": {
    "collapsed": true
   },
   "outputs": [],
   "source": []
  },
  {
   "cell_type": "code",
   "execution_count": 64,
   "metadata": {
    "collapsed": true
   },
   "outputs": [],
   "source": [
    "#print(len(data_loc))\n",
    "\n",
    "    "
   ]
  },
  {
   "cell_type": "code",
   "execution_count": null,
   "metadata": {
    "collapsed": true
   },
   "outputs": [],
   "source": []
  },
  {
   "cell_type": "code",
   "execution_count": 65,
   "metadata": {},
   "outputs": [
    {
     "data": {
      "text/html": [
       "<div>\n",
       "<style>\n",
       "    .dataframe thead tr:only-child th {\n",
       "        text-align: right;\n",
       "    }\n",
       "\n",
       "    .dataframe thead th {\n",
       "        text-align: left;\n",
       "    }\n",
       "\n",
       "    .dataframe tbody tr th {\n",
       "        vertical-align: top;\n",
       "    }\n",
       "</style>\n",
       "<table border=\"1\" class=\"dataframe\">\n",
       "  <thead>\n",
       "    <tr style=\"text-align: right;\">\n",
       "      <th></th>\n",
       "      <th>id</th>\n",
       "      <th>time</th>\n",
       "      <th>device_id</th>\n",
       "      <th>day_int</th>\n",
       "      <th>hour_int</th>\n",
       "      <th>min_int</th>\n",
       "      <th>sec_int</th>\n",
       "      <th>package_name</th>\n",
       "      <th>application</th>\n",
       "      <th>is_system_app</th>\n",
       "    </tr>\n",
       "  </thead>\n",
       "  <tbody>\n",
       "    <tr>\n",
       "      <th>0</th>\n",
       "      <td>11187</td>\n",
       "      <td>1500549607470</td>\n",
       "      <td>0c735596-1a1c-4a35-bb02-55d90c4f86ac</td>\n",
       "      <td>0.0</td>\n",
       "      <td>0.0</td>\n",
       "      <td>0.0</td>\n",
       "      <td>0.0</td>\n",
       "      <td>com.sec.android.app.launcher</td>\n",
       "      <td>TouchWiz Home</td>\n",
       "      <td>1</td>\n",
       "    </tr>\n",
       "    <tr>\n",
       "      <th>1</th>\n",
       "      <td>11188</td>\n",
       "      <td>1500549607799</td>\n",
       "      <td>0c735596-1a1c-4a35-bb02-55d90c4f86ac</td>\n",
       "      <td>0.0</td>\n",
       "      <td>0.0</td>\n",
       "      <td>0.0</td>\n",
       "      <td>0.0</td>\n",
       "      <td>com.android.systemui</td>\n",
       "      <td>System UI</td>\n",
       "      <td>1</td>\n",
       "    </tr>\n",
       "    <tr>\n",
       "      <th>2</th>\n",
       "      <td>11186</td>\n",
       "      <td>1500549559847</td>\n",
       "      <td>0c735596-1a1c-4a35-bb02-55d90c4f86ac</td>\n",
       "      <td>0.0</td>\n",
       "      <td>0.0</td>\n",
       "      <td>0.0</td>\n",
       "      <td>0.0</td>\n",
       "      <td>com.android.settings</td>\n",
       "      <td>Settings</td>\n",
       "      <td>1</td>\n",
       "    </tr>\n",
       "    <tr>\n",
       "      <th>3</th>\n",
       "      <td>11184</td>\n",
       "      <td>1500549552940</td>\n",
       "      <td>0c735596-1a1c-4a35-bb02-55d90c4f86ac</td>\n",
       "      <td>0.0</td>\n",
       "      <td>0.0</td>\n",
       "      <td>0.0</td>\n",
       "      <td>0.0</td>\n",
       "      <td>com.sec.android.app.launcher</td>\n",
       "      <td>TouchWiz Home</td>\n",
       "      <td>1</td>\n",
       "    </tr>\n",
       "    <tr>\n",
       "      <th>4</th>\n",
       "      <td>11185</td>\n",
       "      <td>1500549553892</td>\n",
       "      <td>0c735596-1a1c-4a35-bb02-55d90c4f86ac</td>\n",
       "      <td>0.0</td>\n",
       "      <td>0.0</td>\n",
       "      <td>0.0</td>\n",
       "      <td>0.0</td>\n",
       "      <td>com.android.systemui</td>\n",
       "      <td>System UI</td>\n",
       "      <td>1</td>\n",
       "    </tr>\n",
       "  </tbody>\n",
       "</table>\n",
       "</div>"
      ],
      "text/plain": [
       "      id           time                             device_id  day_int  \\\n",
       "0  11187  1500549607470  0c735596-1a1c-4a35-bb02-55d90c4f86ac      0.0   \n",
       "1  11188  1500549607799  0c735596-1a1c-4a35-bb02-55d90c4f86ac      0.0   \n",
       "2  11186  1500549559847  0c735596-1a1c-4a35-bb02-55d90c4f86ac      0.0   \n",
       "3  11184  1500549552940  0c735596-1a1c-4a35-bb02-55d90c4f86ac      0.0   \n",
       "4  11185  1500549553892  0c735596-1a1c-4a35-bb02-55d90c4f86ac      0.0   \n",
       "\n",
       "   hour_int  min_int  sec_int                  package_name    application  \\\n",
       "0       0.0      0.0      0.0  com.sec.android.app.launcher  TouchWiz Home   \n",
       "1       0.0      0.0      0.0          com.android.systemui      System UI   \n",
       "2       0.0      0.0      0.0          com.android.settings       Settings   \n",
       "3       0.0      0.0      0.0  com.sec.android.app.launcher  TouchWiz Home   \n",
       "4       0.0      0.0      0.0          com.android.systemui      System UI   \n",
       "\n",
       "   is_system_app  \n",
       "0              1  \n",
       "1              1  \n",
       "2              1  \n",
       "3              1  \n",
       "4              1  "
      ]
     },
     "execution_count": 65,
     "metadata": {},
     "output_type": "execute_result"
    }
   ],
   "source": [
    "data0 = pd.read_csv('data/traces/new_traces/app.txt', header=None, names=['id','time','device_id','package_name','application','is_system_app'])\n",
    "\n",
    "data0.insert(3, 'day_int', 0.0)\n",
    "data0.insert( 4, 'hour_int', 0.0)\n",
    "data0.insert(5, 'min_int', 0.0)\n",
    "data0.insert(6, 'sec_int', 0.0)\n",
    "\n",
    "\n",
    "data0.head()"
   ]
  },
  {
   "cell_type": "code",
   "execution_count": 66,
   "metadata": {},
   "outputs": [
    {
     "name": "stdout",
     "output_type": "stream",
     "text": [
      "5801\n"
     ]
    }
   ],
   "source": [
    "print(len(data0) )"
   ]
  },
  {
   "cell_type": "code",
   "execution_count": null,
   "metadata": {
    "collapsed": true
   },
   "outputs": [],
   "source": []
  },
  {
   "cell_type": "code",
   "execution_count": 67,
   "metadata": {},
   "outputs": [
    {
     "name": "stdout",
     "output_type": "stream",
     "text": [
      "2017-07-20 20:20:07\n"
     ]
    }
   ],
   "source": [
    "print(datetime.datetime.fromtimestamp(data0.time[0]//1000))"
   ]
  },
  {
   "cell_type": "code",
   "execution_count": 68,
   "metadata": {},
   "outputs": [
    {
     "data": {
      "text/html": [
       "<div>\n",
       "<style>\n",
       "    .dataframe thead tr:only-child th {\n",
       "        text-align: right;\n",
       "    }\n",
       "\n",
       "    .dataframe thead th {\n",
       "        text-align: left;\n",
       "    }\n",
       "\n",
       "    .dataframe tbody tr th {\n",
       "        vertical-align: top;\n",
       "    }\n",
       "</style>\n",
       "<table border=\"1\" class=\"dataframe\">\n",
       "  <thead>\n",
       "    <tr style=\"text-align: right;\">\n",
       "      <th></th>\n",
       "      <th>id</th>\n",
       "      <th>time</th>\n",
       "      <th>device_id</th>\n",
       "      <th>day_int</th>\n",
       "      <th>hour_int</th>\n",
       "      <th>min_int</th>\n",
       "      <th>sec_int</th>\n",
       "      <th>package_name</th>\n",
       "      <th>application</th>\n",
       "      <th>is_system_app</th>\n",
       "    </tr>\n",
       "  </thead>\n",
       "  <tbody>\n",
       "    <tr>\n",
       "      <th>0</th>\n",
       "      <td>0</td>\n",
       "      <td>1500549607470</td>\n",
       "      <td>0c735596-1a1c-4a35-bb02-55d90c4f86ac</td>\n",
       "      <td>0.6</td>\n",
       "      <td>0.2</td>\n",
       "      <td>0.20</td>\n",
       "      <td>0.07</td>\n",
       "      <td>com.sec.android.app.launcher</td>\n",
       "      <td>TouchWiz Home</td>\n",
       "      <td>1</td>\n",
       "    </tr>\n",
       "    <tr>\n",
       "      <th>1</th>\n",
       "      <td>1</td>\n",
       "      <td>1500549607799</td>\n",
       "      <td>0c735596-1a1c-4a35-bb02-55d90c4f86ac</td>\n",
       "      <td>0.6</td>\n",
       "      <td>0.2</td>\n",
       "      <td>0.20</td>\n",
       "      <td>0.07</td>\n",
       "      <td>com.android.systemui</td>\n",
       "      <td>System UI</td>\n",
       "      <td>1</td>\n",
       "    </tr>\n",
       "    <tr>\n",
       "      <th>2</th>\n",
       "      <td>2</td>\n",
       "      <td>1500549559847</td>\n",
       "      <td>0c735596-1a1c-4a35-bb02-55d90c4f86ac</td>\n",
       "      <td>0.6</td>\n",
       "      <td>0.2</td>\n",
       "      <td>0.19</td>\n",
       "      <td>0.19</td>\n",
       "      <td>com.android.settings</td>\n",
       "      <td>Settings</td>\n",
       "      <td>1</td>\n",
       "    </tr>\n",
       "    <tr>\n",
       "      <th>3</th>\n",
       "      <td>0</td>\n",
       "      <td>1500549552940</td>\n",
       "      <td>0c735596-1a1c-4a35-bb02-55d90c4f86ac</td>\n",
       "      <td>0.6</td>\n",
       "      <td>0.2</td>\n",
       "      <td>0.19</td>\n",
       "      <td>0.12</td>\n",
       "      <td>com.sec.android.app.launcher</td>\n",
       "      <td>TouchWiz Home</td>\n",
       "      <td>1</td>\n",
       "    </tr>\n",
       "    <tr>\n",
       "      <th>4</th>\n",
       "      <td>1</td>\n",
       "      <td>1500549553892</td>\n",
       "      <td>0c735596-1a1c-4a35-bb02-55d90c4f86ac</td>\n",
       "      <td>0.6</td>\n",
       "      <td>0.2</td>\n",
       "      <td>0.19</td>\n",
       "      <td>0.13</td>\n",
       "      <td>com.android.systemui</td>\n",
       "      <td>System UI</td>\n",
       "      <td>1</td>\n",
       "    </tr>\n",
       "  </tbody>\n",
       "</table>\n",
       "</div>"
      ],
      "text/plain": [
       "   id           time                             device_id  day_int  hour_int  \\\n",
       "0   0  1500549607470  0c735596-1a1c-4a35-bb02-55d90c4f86ac      0.6       0.2   \n",
       "1   1  1500549607799  0c735596-1a1c-4a35-bb02-55d90c4f86ac      0.6       0.2   \n",
       "2   2  1500549559847  0c735596-1a1c-4a35-bb02-55d90c4f86ac      0.6       0.2   \n",
       "3   0  1500549552940  0c735596-1a1c-4a35-bb02-55d90c4f86ac      0.6       0.2   \n",
       "4   1  1500549553892  0c735596-1a1c-4a35-bb02-55d90c4f86ac      0.6       0.2   \n",
       "\n",
       "   min_int  sec_int                  package_name    application  \\\n",
       "0     0.20     0.07  com.sec.android.app.launcher  TouchWiz Home   \n",
       "1     0.20     0.07          com.android.systemui      System UI   \n",
       "2     0.19     0.19          com.android.settings       Settings   \n",
       "3     0.19     0.12  com.sec.android.app.launcher  TouchWiz Home   \n",
       "4     0.19     0.13          com.android.systemui      System UI   \n",
       "\n",
       "   is_system_app  \n",
       "0              1  \n",
       "1              1  \n",
       "2              1  \n",
       "3              1  \n",
       "4              1  "
      ]
     },
     "execution_count": 68,
     "metadata": {},
     "output_type": "execute_result"
    }
   ],
   "source": [
    "date = data0.time \n",
    "#duration = data0.duration\n",
    "week_dic = {'Sunday': 1, 'Monday': 2, 'Tuesday': 3, 'Wednesday': 4, 'Thursday': 5, 'Friday': 6, 'Saturday':7}\n",
    "\n",
    "#duration = [dur for dur in duration if dur < 0 dur:0]\n",
    "time_ = [datetime.datetime.fromtimestamp(int(d)//1000) for d in date]\n",
    "time = [str(times)[11:] for times in time_]\n",
    "date_ = [str(times)[:11] for times in time_]\n",
    "week_day = [datetime.datetime.strptime(str(day), '%Y-%M-%d ').strftime('%A') for day in date_]\n",
    "\n",
    "time_int = [time_string.split(':') for time_string in time]\n",
    "time_int_ = [int(''.join(time_scatter)) for time_scatter in time_int]\n",
    "\n",
    "hour_int = [int(hour[0])/100  for hour in time_int]\n",
    "min_int = [int(hour[1])/100  for hour in time_int]\n",
    "sec_int = [int(hour[2])/100  for hour in time_int]\n",
    "\n",
    "data0.hour_int = hour_int\n",
    "data0.min_int = min_int\n",
    "data0.sec_int = sec_int\n",
    "\n",
    "\n",
    "data0.day_int = [week_dic[day]/10 for day in week_day]\n",
    "data0.day = week_day\n",
    "data0.time_24h = time\n",
    "data0.time_int = time_int_\n",
    "number_sessions = {}\n",
    "time_by_app = {}\n",
    "avg_app_time = {}\n",
    "data0.date = date_\n",
    "\n",
    "freq_ = 0\n",
    "freq = {}\n",
    "new_ids = {}\n",
    "new_id = 0\n",
    "\n",
    "for i in range(len(data0)):\n",
    "        names = data0.application[i]      \n",
    "        if names not in freq:\n",
    "            freq[names] = 1\n",
    "        else:\n",
    "            freq[names] += 1\n",
    "        \n",
    "        if names not in new_ids:\n",
    "            new_ids[names] = new_id\n",
    "            new_id +=1\n",
    "       \n",
    "        if names not in number_sessions:\n",
    "            number_sessions[names] = 1\n",
    "            #time_by_app[names] = duration[i]\n",
    "        else:\n",
    "            number_sessions[names] += 1\n",
    "            #time_by_app[names] += duration[i]\n",
    "#data0.id = [for i in data0.application if new_ids[i] == 'SpringBoard']\n",
    "data0.id = [new_ids[i] for i in data0.application]  \n",
    "#n = 0\n",
    "#data0.id = [n for id_ in data0.id if id_ == 1]\n",
    "avg = [float(time_by_app[i])/float(number_sessions[i]) for i in time_by_app]  \n",
    "j = 0\n",
    "\n",
    "\n",
    "#number_apps = len(data)    \n",
    "    \n",
    "data0.head()"
   ]
  },
  {
   "cell_type": "code",
   "execution_count": 69,
   "metadata": {
    "collapsed": true
   },
   "outputs": [],
   "source": [
    "from operator import itemgetter"
   ]
  },
  {
   "cell_type": "code",
   "execution_count": null,
   "metadata": {
    "collapsed": true
   },
   "outputs": [],
   "source": []
  },
  {
   "cell_type": "code",
   "execution_count": 70,
   "metadata": {},
   "outputs": [
    {
     "data": {
      "text/html": [
       "<div>\n",
       "<style>\n",
       "    .dataframe thead tr:only-child th {\n",
       "        text-align: right;\n",
       "    }\n",
       "\n",
       "    .dataframe thead th {\n",
       "        text-align: left;\n",
       "    }\n",
       "\n",
       "    .dataframe tbody tr th {\n",
       "        vertical-align: top;\n",
       "    }\n",
       "</style>\n",
       "<table border=\"1\" class=\"dataframe\">\n",
       "  <thead>\n",
       "    <tr style=\"text-align: right;\">\n",
       "      <th></th>\n",
       "      <th>id</th>\n",
       "      <th>time</th>\n",
       "      <th>device_id</th>\n",
       "      <th>day_int</th>\n",
       "      <th>hour_int</th>\n",
       "      <th>min_int</th>\n",
       "      <th>sec_int</th>\n",
       "      <th>package_name</th>\n",
       "      <th>application</th>\n",
       "      <th>is_system_app</th>\n",
       "    </tr>\n",
       "  </thead>\n",
       "  <tbody>\n",
       "    <tr>\n",
       "      <th>0</th>\n",
       "      <td>0</td>\n",
       "      <td>0.150055</td>\n",
       "      <td>0c735596-1a1c-4a35-bb02-55d90c4f86ac</td>\n",
       "      <td>0.6</td>\n",
       "      <td>0.2</td>\n",
       "      <td>0.20</td>\n",
       "      <td>0.07</td>\n",
       "      <td>com.sec.android.app.launcher</td>\n",
       "      <td>TouchWiz Home</td>\n",
       "      <td>1</td>\n",
       "    </tr>\n",
       "    <tr>\n",
       "      <th>1</th>\n",
       "      <td>1</td>\n",
       "      <td>0.150055</td>\n",
       "      <td>0c735596-1a1c-4a35-bb02-55d90c4f86ac</td>\n",
       "      <td>0.6</td>\n",
       "      <td>0.2</td>\n",
       "      <td>0.20</td>\n",
       "      <td>0.07</td>\n",
       "      <td>com.android.systemui</td>\n",
       "      <td>System UI</td>\n",
       "      <td>1</td>\n",
       "    </tr>\n",
       "    <tr>\n",
       "      <th>2</th>\n",
       "      <td>2</td>\n",
       "      <td>0.150055</td>\n",
       "      <td>0c735596-1a1c-4a35-bb02-55d90c4f86ac</td>\n",
       "      <td>0.6</td>\n",
       "      <td>0.2</td>\n",
       "      <td>0.19</td>\n",
       "      <td>0.19</td>\n",
       "      <td>com.android.settings</td>\n",
       "      <td>Settings</td>\n",
       "      <td>1</td>\n",
       "    </tr>\n",
       "    <tr>\n",
       "      <th>3</th>\n",
       "      <td>0</td>\n",
       "      <td>0.150055</td>\n",
       "      <td>0c735596-1a1c-4a35-bb02-55d90c4f86ac</td>\n",
       "      <td>0.6</td>\n",
       "      <td>0.2</td>\n",
       "      <td>0.19</td>\n",
       "      <td>0.12</td>\n",
       "      <td>com.sec.android.app.launcher</td>\n",
       "      <td>TouchWiz Home</td>\n",
       "      <td>1</td>\n",
       "    </tr>\n",
       "    <tr>\n",
       "      <th>4</th>\n",
       "      <td>1</td>\n",
       "      <td>0.150055</td>\n",
       "      <td>0c735596-1a1c-4a35-bb02-55d90c4f86ac</td>\n",
       "      <td>0.6</td>\n",
       "      <td>0.2</td>\n",
       "      <td>0.19</td>\n",
       "      <td>0.13</td>\n",
       "      <td>com.android.systemui</td>\n",
       "      <td>System UI</td>\n",
       "      <td>1</td>\n",
       "    </tr>\n",
       "  </tbody>\n",
       "</table>\n",
       "</div>"
      ],
      "text/plain": [
       "   id      time                             device_id  day_int  hour_int  \\\n",
       "0   0  0.150055  0c735596-1a1c-4a35-bb02-55d90c4f86ac      0.6       0.2   \n",
       "1   1  0.150055  0c735596-1a1c-4a35-bb02-55d90c4f86ac      0.6       0.2   \n",
       "2   2  0.150055  0c735596-1a1c-4a35-bb02-55d90c4f86ac      0.6       0.2   \n",
       "3   0  0.150055  0c735596-1a1c-4a35-bb02-55d90c4f86ac      0.6       0.2   \n",
       "4   1  0.150055  0c735596-1a1c-4a35-bb02-55d90c4f86ac      0.6       0.2   \n",
       "\n",
       "   min_int  sec_int                  package_name    application  \\\n",
       "0     0.20     0.07  com.sec.android.app.launcher  TouchWiz Home   \n",
       "1     0.20     0.07          com.android.systemui      System UI   \n",
       "2     0.19     0.19          com.android.settings       Settings   \n",
       "3     0.19     0.12  com.sec.android.app.launcher  TouchWiz Home   \n",
       "4     0.19     0.13          com.android.systemui      System UI   \n",
       "\n",
       "   is_system_app  \n",
       "0              1  \n",
       "1              1  \n",
       "2              1  \n",
       "3              1  \n",
       "4              1  "
      ]
     },
     "execution_count": 70,
     "metadata": {},
     "output_type": "execute_result"
    }
   ],
   "source": [
    "data0.time = [time/10e12 for time in data0.time]\n",
    "data0.head()"
   ]
  },
  {
   "cell_type": "code",
   "execution_count": null,
   "metadata": {
    "collapsed": true
   },
   "outputs": [],
   "source": []
  },
  {
   "cell_type": "code",
   "execution_count": 163,
   "metadata": {
    "collapsed": true
   },
   "outputs": [],
   "source": [
    "def load_data(data):\n",
    "    X = data[['day_int', 'hour_int', 'is_system_app']].values\n",
    "    #gender = data[['gender']].values\n",
    "    y = data[['id']].values\n",
    "    #labels = data_[['id']].values\n",
    "   \n",
    "    return X, y\n",
    "\n",
    "\n"
   ]
  },
  {
   "cell_type": "code",
   "execution_count": null,
   "metadata": {
    "collapsed": true
   },
   "outputs": [],
   "source": []
  },
  {
   "cell_type": "code",
   "execution_count": 164,
   "metadata": {},
   "outputs": [
    {
     "data": {
      "text/html": [
       "<div>\n",
       "<style>\n",
       "    .dataframe thead tr:only-child th {\n",
       "        text-align: right;\n",
       "    }\n",
       "\n",
       "    .dataframe thead th {\n",
       "        text-align: left;\n",
       "    }\n",
       "\n",
       "    .dataframe tbody tr th {\n",
       "        vertical-align: top;\n",
       "    }\n",
       "</style>\n",
       "<table border=\"1\" class=\"dataframe\">\n",
       "  <thead>\n",
       "    <tr style=\"text-align: right;\">\n",
       "      <th></th>\n",
       "      <th>id</th>\n",
       "      <th>time</th>\n",
       "      <th>device_id</th>\n",
       "      <th>day_int</th>\n",
       "      <th>hour_int</th>\n",
       "      <th>min_int</th>\n",
       "      <th>sec_int</th>\n",
       "      <th>package_name</th>\n",
       "      <th>application</th>\n",
       "      <th>is_system_app</th>\n",
       "    </tr>\n",
       "  </thead>\n",
       "  <tbody>\n",
       "    <tr>\n",
       "      <th>0</th>\n",
       "      <td>0</td>\n",
       "      <td>0.150055</td>\n",
       "      <td>0c735596-1a1c-4a35-bb02-55d90c4f86ac</td>\n",
       "      <td>0.6</td>\n",
       "      <td>0.2</td>\n",
       "      <td>0.20</td>\n",
       "      <td>0.07</td>\n",
       "      <td>com.sec.android.app.launcher</td>\n",
       "      <td>TouchWiz Home</td>\n",
       "      <td>1</td>\n",
       "    </tr>\n",
       "    <tr>\n",
       "      <th>1</th>\n",
       "      <td>1</td>\n",
       "      <td>0.150055</td>\n",
       "      <td>0c735596-1a1c-4a35-bb02-55d90c4f86ac</td>\n",
       "      <td>0.6</td>\n",
       "      <td>0.2</td>\n",
       "      <td>0.20</td>\n",
       "      <td>0.07</td>\n",
       "      <td>com.android.systemui</td>\n",
       "      <td>System UI</td>\n",
       "      <td>1</td>\n",
       "    </tr>\n",
       "    <tr>\n",
       "      <th>2</th>\n",
       "      <td>2</td>\n",
       "      <td>0.150055</td>\n",
       "      <td>0c735596-1a1c-4a35-bb02-55d90c4f86ac</td>\n",
       "      <td>0.6</td>\n",
       "      <td>0.2</td>\n",
       "      <td>0.19</td>\n",
       "      <td>0.19</td>\n",
       "      <td>com.android.settings</td>\n",
       "      <td>Settings</td>\n",
       "      <td>1</td>\n",
       "    </tr>\n",
       "    <tr>\n",
       "      <th>3</th>\n",
       "      <td>0</td>\n",
       "      <td>0.150055</td>\n",
       "      <td>0c735596-1a1c-4a35-bb02-55d90c4f86ac</td>\n",
       "      <td>0.6</td>\n",
       "      <td>0.2</td>\n",
       "      <td>0.19</td>\n",
       "      <td>0.12</td>\n",
       "      <td>com.sec.android.app.launcher</td>\n",
       "      <td>TouchWiz Home</td>\n",
       "      <td>1</td>\n",
       "    </tr>\n",
       "    <tr>\n",
       "      <th>4</th>\n",
       "      <td>1</td>\n",
       "      <td>0.150055</td>\n",
       "      <td>0c735596-1a1c-4a35-bb02-55d90c4f86ac</td>\n",
       "      <td>0.6</td>\n",
       "      <td>0.2</td>\n",
       "      <td>0.19</td>\n",
       "      <td>0.13</td>\n",
       "      <td>com.android.systemui</td>\n",
       "      <td>System UI</td>\n",
       "      <td>1</td>\n",
       "    </tr>\n",
       "  </tbody>\n",
       "</table>\n",
       "</div>"
      ],
      "text/plain": [
       "   id      time                             device_id  day_int  hour_int  \\\n",
       "0   0  0.150055  0c735596-1a1c-4a35-bb02-55d90c4f86ac      0.6       0.2   \n",
       "1   1  0.150055  0c735596-1a1c-4a35-bb02-55d90c4f86ac      0.6       0.2   \n",
       "2   2  0.150055  0c735596-1a1c-4a35-bb02-55d90c4f86ac      0.6       0.2   \n",
       "3   0  0.150055  0c735596-1a1c-4a35-bb02-55d90c4f86ac      0.6       0.2   \n",
       "4   1  0.150055  0c735596-1a1c-4a35-bb02-55d90c4f86ac      0.6       0.2   \n",
       "\n",
       "   min_int  sec_int                  package_name    application  \\\n",
       "0     0.20     0.07  com.sec.android.app.launcher  TouchWiz Home   \n",
       "1     0.20     0.07          com.android.systemui      System UI   \n",
       "2     0.19     0.19          com.android.settings       Settings   \n",
       "3     0.19     0.12  com.sec.android.app.launcher  TouchWiz Home   \n",
       "4     0.19     0.13          com.android.systemui      System UI   \n",
       "\n",
       "   is_system_app  \n",
       "0              1  \n",
       "1              1  \n",
       "2              1  \n",
       "3              1  \n",
       "4              1  "
      ]
     },
     "execution_count": 164,
     "metadata": {},
     "output_type": "execute_result"
    }
   ],
   "source": [
    "\n",
    "\n",
    "data0.head()"
   ]
  },
  {
   "cell_type": "code",
   "execution_count": null,
   "metadata": {
    "collapsed": true
   },
   "outputs": [],
   "source": []
  },
  {
   "cell_type": "code",
   "execution_count": 165,
   "metadata": {
    "collapsed": true
   },
   "outputs": [],
   "source": [
    "#gender_labels = data0.gender\n",
    "X, Y = load_data(data0)"
   ]
  },
  {
   "cell_type": "code",
   "execution_count": 166,
   "metadata": {},
   "outputs": [
    {
     "name": "stdout",
     "output_type": "stream",
     "text": [
      "(5801, 3) (5801, 1)\n"
     ]
    }
   ],
   "source": [
    "print(X.shape, Y.shape)"
   ]
  },
  {
   "cell_type": "code",
   "execution_count": 167,
   "metadata": {
    "collapsed": true
   },
   "outputs": [],
   "source": [
    "np.savetxt('new_Y', Y, delimiter='\\n')  \n",
    "#np.savetxt('new_Y_', Y_, delimiter='\\t')  "
   ]
  },
  {
   "cell_type": "code",
   "execution_count": 168,
   "metadata": {},
   "outputs": [
    {
     "name": "stdout",
     "output_type": "stream",
     "text": [
      "[ 1.  0.  0.  0.  0.  0.  0.  0.  0.  0.  0.  0.  0.  0.  0.  0.  0.  0.\n",
      "  0.  0.  0.  0.  0.  0.  0.  0.  0.  0.  0.  0.  0.  0.  0.  0.  0.  0.\n",
      "  0.  0.  0.  0.  0.  0.  0.  0.  0.  0.  0.  0.  0.  0.  0.  0.  0.  0.\n",
      "  0.  0.  0.  0.  0.  0.  0.  0.] [1]\n"
     ]
    }
   ],
   "source": [
    "length = len(Y)\n",
    "Y_ = np.zeros((length, int(np.max(Y))))\n",
    "\n",
    "for i in range(length):\n",
    "    index = int(Y[i] - 1)\n",
    "    if index > -1:\n",
    "        Y_[i][index] = 1\n",
    "    \n",
    "print(Y_[1], Y[1])"
   ]
  },
  {
   "cell_type": "markdown",
   "metadata": {},
   "source": [
    "\n",
    "\n"
   ]
  },
  {
   "cell_type": "code",
   "execution_count": null,
   "metadata": {
    "collapsed": true
   },
   "outputs": [],
   "source": []
  },
  {
   "cell_type": "code",
   "execution_count": 169,
   "metadata": {},
   "outputs": [
    {
     "name": "stdout",
     "output_type": "stream",
     "text": [
      "X shape and Y shape                       (5801, 1, 3), (5801, 62)\n",
      "X testing shape and Y testing shape       (59, 1, 3), (59, 62)\n",
      "X training shape and Y training shape     (5742, 1, 3), (5742, 62)\n"
     ]
    }
   ],
   "source": [
    "\n",
    "\n",
    "l = len(X)\n",
    "div = l//20\n",
    "div2 = div*2\n",
    "\n",
    "\n",
    "#train_indices = np.random.choice(l, round(0.9*l), replace=False)\n",
    "#test_indices = np.array(list(set(range(l)) - set(train_indices)))\n",
    "\n",
    "\n",
    "train_indices = int(l * 0.99)\n",
    "test_indices = train_indices + int((l - train_indices))\n",
    "#val_indices_ = l - train_indices - test_indices\n",
    "#val_indices = np.array(list(test_indices))\n",
    "\n",
    "X_ = np.reshape(X, (X.shape[0],1, X.shape[1]))\n",
    "#print(len(test_indices), len(train_indices) )\n",
    "#Dividing data for testing, validation and training\n",
    "X_te, Y_te = X_[train_indices:test_indices], Y_[train_indices:test_indices]\n",
    "#X_val, Y_val = X_[test_indices:], Y_[test_indices:]\n",
    "X_tr, Y_tr = X_[:train_indices], Y_[:train_indices]\n",
    "\n",
    "#data info\n",
    "print('X shape and Y shape                       {}, {}'.format(X_.shape, Y_.shape))\n",
    "print('X testing shape and Y testing shape       {}, {}'.format(X_te.shape, Y_te.shape))\n",
    "print('X training shape and Y training shape     {}, {}'.format(X_tr.shape, Y_tr.shape))\n",
    "#print('X validation shape and Y validation shape {}, {}'.format(X_val.shape, Y_val.shape))\n",
    "Y_tr_ = Y[:train_indices]\n",
    "#print(X, Y)"
   ]
  },
  {
   "cell_type": "code",
   "execution_count": 170,
   "metadata": {},
   "outputs": [
    {
     "name": "stdout",
     "output_type": "stream",
     "text": [
      "3\n"
     ]
    }
   ],
   "source": [
    "print(X.shape[1])"
   ]
  },
  {
   "cell_type": "markdown",
   "metadata": {
    "collapsed": true
   },
   "source": [
    "# RNN lstm"
   ]
  },
  {
   "cell_type": "code",
   "execution_count": 219,
   "metadata": {
    "collapsed": true
   },
   "outputs": [],
   "source": [
    "tf.reset_default_graph()\n",
    "sess = tf.Session()"
   ]
  },
  {
   "cell_type": "code",
   "execution_count": 220,
   "metadata": {},
   "outputs": [
    {
     "name": "stdout",
     "output_type": "stream",
     "text": [
      "Tensor(\"x:0\", shape=(?, 1, 3), dtype=float32)\n",
      "Tensor(\"y:0\", shape=(?, 62), dtype=float32)\n"
     ]
    }
   ],
   "source": [
    "n_hidden = 1024\n",
    "n_input = X_tr.shape[2]\n",
    "n_steps = X_tr.shape[1]\n",
    "n_classes = Y_tr.shape[1]\n",
    "batch_size = 512\n",
    "x = tf.placeholder(dtype=tf.float32, shape=(None, n_steps, n_input), name=\"x\")\n",
    "#istate = tf.placeholder(dtype=tf.float32, shape=(None, 2 * n_hidden), name=\"istate\")\n",
    "y = tf.placeholder(dtype=tf.float32, shape=(None, n_classes), name=\"y\")\n",
    "#y_hat = tf.placeholder(dtype=tf.float32, shape=(None, n_classes), name=\"y_hat\")\n",
    "\n",
    "\n",
    "\n",
    "print(x)\n",
    "print(y)\n",
    "#print(istate)\n",
    "#print(y_hat)\n"
   ]
  },
  {
   "cell_type": "code",
   "execution_count": 221,
   "metadata": {},
   "outputs": [
    {
     "name": "stdout",
     "output_type": "stream",
     "text": [
      "1\n"
     ]
    }
   ],
   "source": [
    "print(n_steps)"
   ]
  },
  {
   "cell_type": "code",
   "execution_count": 222,
   "metadata": {
    "collapsed": true
   },
   "outputs": [],
   "source": [
    "def RNN(x_):\n",
    "\n",
    "    weights = {\n",
    "    'hidden': tf.Variable(tf.truncated_normal([n_input, n_hidden], -0.1, 0.1)), # Hidden layer weights\n",
    "    'out': tf.Variable(tf.truncated_normal([n_hidden, n_classes], -0.1, 0.1))\n",
    "     }\n",
    "    biases = {\n",
    "    'hidden': tf.Variable(tf.truncated_normal([n_hidden], -0.1, 0.1)),\n",
    "    'out': tf.Variable(tf.truncated_normal([n_classes], -0.1, 0.1))\n",
    "     }\n",
    "    data = tf.transpose(x_, [1, 0, 2])\n",
    "    data = tf.reshape(data, [-1, n_input])\n",
    "    hidden = tf.nn.sigmoid(tf.matmul(data, weights['hidden']) + biases['hidden'])\n",
    "    hidden = tf.nn.dropout(hidden, 0.5)\n",
    "    #hidden = tf.layers.batch_normalization(hidden)\n",
    "    hidden = tf.split(hidden, n_steps, 0)\n",
    "\n",
    "    # Stack 2 LSTM layers\n",
    "    lstm_layers = [tf.contrib.rnn.BasicLSTMCell(n_hidden, forget_bias=0.5) for _ in range(8)]\n",
    "    lstm_layers = tf.contrib.rnn.MultiRNNCell(lstm_layers)\n",
    "\n",
    "    outputs, _ = tf.contrib.rnn.static_rnn(lstm_layers, hidden, dtype=tf.float32)\n",
    "\n",
    "    # Get output for the last time step\n",
    "    lstm_last_output = outputs[-1]\n",
    "\n",
    "    return tf.matmul(lstm_last_output, weights['out']) + biases['out']\n",
    "    \n",
    "    \n",
    "    \n",
    "    \n",
    "    "
   ]
  },
  {
   "cell_type": "code",
   "execution_count": 223,
   "metadata": {
    "collapsed": true
   },
   "outputs": [],
   "source": [
    "pred = RNN(x)"
   ]
  },
  {
   "cell_type": "code",
   "execution_count": 224,
   "metadata": {
    "collapsed": true
   },
   "outputs": [],
   "source": [
    "softmax = tf.nn.softmax(pred, name=\"softmax\")"
   ]
  },
  {
   "cell_type": "code",
   "execution_count": 225,
   "metadata": {
    "collapsed": true
   },
   "outputs": [],
   "source": [
    "reg = 0.0015\n",
    "l2 = reg * np.sum(tf.nn.l2_loss(var) for var in tf.trainable_variables())\n"
   ]
  },
  {
   "cell_type": "code",
   "execution_count": 226,
   "metadata": {},
   "outputs": [],
   "source": [
    "loss = tf.reduce_mean(tf.nn.softmax_cross_entropy_with_logits(logits=pred, labels=y))"
   ]
  },
  {
   "cell_type": "code",
   "execution_count": 227,
   "metadata": {},
   "outputs": [],
   "source": [
    "optimizer = tf.train.AdamOptimizer(learning_rate=0.001, beta1=0.99).minimize(loss)"
   ]
  },
  {
   "cell_type": "code",
   "execution_count": 228,
   "metadata": {
    "collapsed": true
   },
   "outputs": [],
   "source": [
    "correct_pred = tf.equal(tf.argmax(softmax, 1), tf.argmax(y, 1))\n",
    "accuracy = tf.reduce_mean(tf.cast(correct_pred, dtype=tf.float32))"
   ]
  },
  {
   "cell_type": "code",
   "execution_count": 229,
   "metadata": {
    "collapsed": true
   },
   "outputs": [],
   "source": [
    "\n",
    "saver = tf.train.Saver()"
   ]
  },
  {
   "cell_type": "code",
   "execution_count": 230,
   "metadata": {
    "collapsed": true
   },
   "outputs": [],
   "source": [
    "init = tf.global_variables_initializer()"
   ]
  },
  {
   "cell_type": "code",
   "execution_count": 231,
   "metadata": {
    "collapsed": true
   },
   "outputs": [],
   "source": [
    "sess.run(init)"
   ]
  },
  {
   "cell_type": "code",
   "execution_count": 232,
   "metadata": {},
   "outputs": [
    {
     "name": "stdout",
     "output_type": "stream",
     "text": [
      "Epoch 0 train-loss: 3.038933515548706 and accuracy 0.0%\n",
      "test-loss: 2.482211112976074 and test accuracy 0.0%\n",
      "Epoch 27 train-loss: 1.6672122478485107 and accuracy 59.5703125%\n",
      "test-loss: 1.3396505117416382 and test accuracy 67.79661178588867%\n",
      "Epoch 54 train-loss: 1.6419463157653809 and accuracy 60.7421875%\n",
      "test-loss: 1.3305368423461914 and test accuracy 67.79661178588867%\n",
      "Epoch 81 train-loss: 1.6942858695983887 and accuracy 58.59375%\n",
      "test-loss: 1.3128048181533813 and test accuracy 67.79661178588867%\n",
      "Epoch 109 train-loss: 1.706453800201416 and accuracy 60.3515625%\n",
      "test-loss: 1.3311020135879517 and test accuracy 67.79661178588867%\n",
      "Training Interrupted\n",
      "1.6094019730885825 mins\n"
     ]
    }
   ],
   "source": [
    "train_loss_hist = []\n",
    "train_acc = []\n",
    "test_loss_hist = []\n",
    "test_acc = []\n",
    "import time as t\n",
    "tr_iter = 270000\n",
    "#batch_size = 512\n",
    "start = t.time()\n",
    "length = len(X_tr)\n",
    "total_batches = length//batch_size\n",
    "epochs = 30000\n",
    "m = 0\n",
    "#index = bathc\n",
    "#index_ = 0\n",
    "try:\n",
    "    for i in range(epochs):\n",
    "        \n",
    "        for j in range(total_batches):\n",
    "            \n",
    "            #index = (j * batch_size) % (length - batch_size)    \n",
    "            index = np.random.choice(length, batch_size, replace=True)\n",
    "            #index = \n",
    "            batch_xs = X_tr[index]\n",
    "            batch_ys = Y_tr[index]\n",
    "            _, loss_, _, acc,  = sess.run([optimizer, loss, softmax, accuracy], feed_dict={x: batch_xs,\n",
    "                                                                       y: batch_ys\n",
    "                                                                  })\n",
    "            _loss, _, _acc,  = sess.run([ loss, softmax, accuracy], feed_dict={x: X_te,\n",
    "                                                                   y: Y_te\n",
    "                                                                  })\n",
    "    \n",
    "            \n",
    "            if m % 300 == 0:\n",
    "                #accu = roc_auc_score(Y_te, acc_train)\n",
    "                print('Epoch {} train-loss: {} and accuracy {}%'.format(i, loss_, 100 * acc))\n",
    "                print('test-loss: {} and test accuracy {}%'.format( _loss, 100 * _acc))\n",
    "                test_acc.append(_acc)\n",
    "                train_acc.append(acc)\n",
    "            #test_loss_hist.append(_loss)\n",
    "                train_loss_hist.append(loss_)\n",
    "            m += 1\n",
    "            #print(prediction)\n",
    "except KeyboardInterrupt:\n",
    "    print('Training Interrupted')\n",
    "end = t.time()\n",
    "print((end-start)/60, 'mins')"
   ]
  },
  {
   "cell_type": "code",
   "execution_count": 218,
   "metadata": {},
   "outputs": [
    {
     "data": {
      "image/png": "[encoded data removed]",
      "text/plain": [
       "<matplotlib.figure.Figure at 0x7fe8bdee9f98>"
      ]
     },
     "metadata": {},
     "output_type": "display_data"
    },
    {
     "data": {
      "image/png": "[encoded data removed]",
      "text/plain": [
       "<matplotlib.figure.Figure at 0x7fe8bdcdf3c8>"
      ]
     },
     "metadata": {},
     "output_type": "display_data"
    }
   ],
   "source": [
    "plt.plot(train_loss_hist, 'k-', label='Train Loss')\n",
    "plt.plot(test_loss_hist, 'r--', label='Test Loss')\n",
    "plt.title('Loss per Gen')\n",
    "plt.xlabel('Gen')\n",
    "plt.ylabel('Loss')\n",
    "plt.show()\n",
    "\n",
    "\n",
    "#plotting accuracy\n",
    "plt.plot(train_acc, 'k-', label='Train acc')\n",
    "plt.plot(test_acc, 'r--', label='Test acc')\n",
    "plt.title('Accuarcy per Gen')\n",
    "plt.xlabel('Gen')\n",
    "plt.ylabel('Accuracy')\n",
    "plt.show()"
   ]
  },
  {
   "cell_type": "code",
   "execution_count": 310,
   "metadata": {},
   "outputs": [
    {
     "name": "stdout",
     "output_type": "stream",
     "text": [
      "0.859375\n"
     ]
    }
   ],
   "source": [
    "print(np.mean((train_acc[8:]))) "
   ]
  },
  {
   "cell_type": "code",
   "execution_count": null,
   "metadata": {
    "collapsed": true
   },
   "outputs": [],
   "source": []
  }
 ],
 "metadata": {
  "kernelspec": {
   "display_name": "Python 3",
   "language": "python",
   "name": "python3"
  },
  "language_info": {
   "codemirror_mode": {
    "name": "ipython",
    "version": 3
   },
   "file_extension": ".py",
   "mimetype": "text/x-python",
   "name": "python",
   "nbconvert_exporter": "python",
   "pygments_lexer": "ipython3",
   "version": "3.6.1"
  }
 },
 "nbformat": 4,
 "nbformat_minor": 2
}
